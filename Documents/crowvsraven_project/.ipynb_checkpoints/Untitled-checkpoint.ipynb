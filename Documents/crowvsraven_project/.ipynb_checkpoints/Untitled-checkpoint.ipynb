{
 "cells": [
  {
   "cell_type": "code",
   "execution_count": 1,
   "id": "ef531eb5",
   "metadata": {},
   "outputs": [],
   "source": [
    "import pandas as pd\n",
    "import numpy as np\n",
    "import re\n",
    "import string"
   ]
  },
  {
   "cell_type": "code",
   "execution_count": 2,
   "id": "70b576f5",
   "metadata": {},
   "outputs": [],
   "source": [
    "df=pd.read_csv('crowvsraven.txt')\n",
    "df.to_csv('crowvsraven.csv', index=None)"
   ]
  },
  {
   "cell_type": "code",
   "execution_count": null,
   "id": "1c9f4c18",
   "metadata": {},
   "outputs": [],
   "source": []
  },
  {
   "cell_type": "code",
   "execution_count": null,
   "id": "12bde990",
   "metadata": {},
   "outputs": [],
   "source": []
  },
  {
   "cell_type": "code",
   "execution_count": null,
   "id": "7ad4e2f4",
   "metadata": {},
   "outputs": [],
   "source": []
  },
  {
   "cell_type": "code",
   "execution_count": null,
   "id": "77b6df5d",
   "metadata": {},
   "outputs": [],
   "source": []
  },
  {
   "cell_type": "code",
   "execution_count": null,
   "id": "84b3b328",
   "metadata": {},
   "outputs": [],
   "source": []
  },
  {
   "cell_type": "code",
   "execution_count": 3,
   "id": "a3cdf8db",
   "metadata": {},
   "outputs": [
    {
     "data": {
      "text/html": [
       "<div>\n",
       "<style scoped>\n",
       "    .dataframe tbody tr th:only-of-type {\n",
       "        vertical-align: middle;\n",
       "    }\n",
       "\n",
       "    .dataframe tbody tr th {\n",
       "        vertical-align: top;\n",
       "    }\n",
       "\n",
       "    .dataframe thead th {\n",
       "        text-align: right;\n",
       "    }\n",
       "</style>\n",
       "<table border=\"1\" class=\"dataframe\">\n",
       "  <thead>\n",
       "    <tr style=\"text-align: right;\">\n",
       "      <th></th>\n",
       "      <th>Scientific name</th>\n",
       "      <th>common name</th>\n",
       "      <th>size</th>\n",
       "      <th>weight</th>\n",
       "      <th>nesting place</th>\n",
       "      <th>lifespan</th>\n",
       "      <th>country</th>\n",
       "    </tr>\n",
       "  </thead>\n",
       "  <tbody>\n",
       "    <tr>\n",
       "      <th>0</th>\n",
       "      <td>Corvus bennetti</td>\n",
       "      <td>little crow</td>\n",
       "      <td>38-45cm</td>\n",
       "      <td>290-500g</td>\n",
       "      <td>trees</td>\n",
       "      <td>14-20</td>\n",
       "      <td>Australia</td>\n",
       "    </tr>\n",
       "    <tr>\n",
       "      <th>1</th>\n",
       "      <td>Corvus coronoides</td>\n",
       "      <td>Australian raven</td>\n",
       "      <td>46-53cm</td>\n",
       "      <td>650g</td>\n",
       "      <td>trees</td>\n",
       "      <td>22</td>\n",
       "      <td>Australia</td>\n",
       "    </tr>\n",
       "    <tr>\n",
       "      <th>2</th>\n",
       "      <td>Corvus meeki</td>\n",
       "      <td>bougainville crow</td>\n",
       "      <td>40-41cm</td>\n",
       "      <td>NaN</td>\n",
       "      <td>trees</td>\n",
       "      <td>6-10</td>\n",
       "      <td>Australia</td>\n",
       "    </tr>\n",
       "    <tr>\n",
       "      <th>3</th>\n",
       "      <td>Corvus mellori</td>\n",
       "      <td>little raven</td>\n",
       "      <td>48-50cm</td>\n",
       "      <td>365-660g</td>\n",
       "      <td>trees</td>\n",
       "      <td>15-20</td>\n",
       "      <td>Australia</td>\n",
       "    </tr>\n",
       "    <tr>\n",
       "      <th>4</th>\n",
       "      <td>Corvus moneduloides</td>\n",
       "      <td>newCaledonian crow</td>\n",
       "      <td>40-43cm</td>\n",
       "      <td>225-355g</td>\n",
       "      <td>trees</td>\n",
       "      <td>NaN</td>\n",
       "      <td>Australia</td>\n",
       "    </tr>\n",
       "  </tbody>\n",
       "</table>\n",
       "</div>"
      ],
      "text/plain": [
       "       Scientific name         common name     size    weight nesting place  \\\n",
       "0      Corvus bennetti         little crow  38-45cm  290-500g         trees   \n",
       "1    Corvus coronoides    Australian raven  46-53cm      650g         trees   \n",
       "2         Corvus meeki   bougainville crow  40-41cm       NaN         trees   \n",
       "3       Corvus mellori        little raven  48-50cm  365-660g         trees   \n",
       "4  Corvus moneduloides  newCaledonian crow  40-43cm  225-355g         trees   \n",
       "\n",
       "  lifespan    country  \n",
       "0    14-20  Australia  \n",
       "1       22  Australia  \n",
       "2     6-10  Australia  \n",
       "3    15-20  Australia  \n",
       "4      NaN  Australia  "
      ]
     },
     "execution_count": 3,
     "metadata": {},
     "output_type": "execute_result"
    }
   ],
   "source": [
    "df.head()"
   ]
  },
  {
   "cell_type": "code",
   "execution_count": null,
   "id": "8dc341e3",
   "metadata": {},
   "outputs": [],
   "source": []
  },
  {
   "cell_type": "code",
   "execution_count": null,
   "id": "d2526a17",
   "metadata": {},
   "outputs": [],
   "source": []
  },
  {
   "cell_type": "code",
   "execution_count": null,
   "id": "2160ad85",
   "metadata": {},
   "outputs": [],
   "source": []
  },
  {
   "cell_type": "code",
   "execution_count": 4,
   "id": "40b8666a",
   "metadata": {},
   "outputs": [],
   "source": [
    "df.weight = df['weight'].replace('[g,]', '', regex=True)\n",
    "df.size = df['size'].replace('[cm,]', '', regex=True)\n",
    "\n",
    "#find average size\n",
    "filter = pd.notna(df['size'])\n",
    "split_df = df['size'].str.split('(-)', expand=True)\n",
    "split_df = split_df.where(filter)\n",
    "num_one = pd.to_numeric(split_df[0])\n",
    "num_two = pd.to_numeric(split_df[2])\n",
    "df['average size'] = (num_one+num_two)/2\n"
   ]
  },
  {
   "cell_type": "code",
   "execution_count": 5,
   "id": "9f1fa460",
   "metadata": {},
   "outputs": [],
   "source": [
    "#find average weight\n",
    "filter = pd.notna(df['weight'])\n",
    "split_df_weight = df['weight'].str.split('(-)', expand=True)\n",
    "split_df_weight = split_df_weight.where(filter)\n",
    "num_weightone = pd.to_numeric(split_df_weight[0])\n",
    "num_weighttwo = pd.to_numeric(split_df_weight[2])\n",
    "df['average weight'] = (num_weightone+num_weighttwo)/2\n"
   ]
  },
  {
   "cell_type": "code",
   "execution_count": 6,
   "id": "8c55ade4",
   "metadata": {},
   "outputs": [],
   "source": [
    "#find average lifespan\n",
    "filter = pd.notna(df['lifespan'])\n",
    "split_df_lifespan = df['lifespan'].str.split('(-)', expand=True)\n",
    "split_df_lifespan = split_df_lifespan.where(filter)\n",
    "num_lifespanone = pd.to_numeric(split_df_lifespan[0])\n",
    "num_lifespantwo = pd.to_numeric(split_df_lifespan[2])\n",
    "df['average lifespan'] = (num_lifespanone+num_lifespantwo)/2\n"
   ]
  },
  {
   "cell_type": "code",
   "execution_count": 7,
   "id": "c279632d",
   "metadata": {},
   "outputs": [
    {
     "data": {
      "text/html": [
       "<div>\n",
       "<style scoped>\n",
       "    .dataframe tbody tr th:only-of-type {\n",
       "        vertical-align: middle;\n",
       "    }\n",
       "\n",
       "    .dataframe tbody tr th {\n",
       "        vertical-align: top;\n",
       "    }\n",
       "\n",
       "    .dataframe thead th {\n",
       "        text-align: right;\n",
       "    }\n",
       "</style>\n",
       "<table border=\"1\" class=\"dataframe\">\n",
       "  <thead>\n",
       "    <tr style=\"text-align: right;\">\n",
       "      <th></th>\n",
       "      <th>Scientific name</th>\n",
       "      <th>common name</th>\n",
       "      <th>size</th>\n",
       "      <th>weight</th>\n",
       "      <th>nesting place</th>\n",
       "      <th>lifespan</th>\n",
       "      <th>country</th>\n",
       "      <th>average size</th>\n",
       "      <th>average weight</th>\n",
       "      <th>average lifespan</th>\n",
       "      <th>crow or raven</th>\n",
       "    </tr>\n",
       "  </thead>\n",
       "  <tbody>\n",
       "    <tr>\n",
       "      <th>0</th>\n",
       "      <td>Corvus bennetti</td>\n",
       "      <td>little crow</td>\n",
       "      <td>38-45</td>\n",
       "      <td>290-500</td>\n",
       "      <td>trees</td>\n",
       "      <td>14-20</td>\n",
       "      <td>Australia</td>\n",
       "      <td>41.5</td>\n",
       "      <td>395.0</td>\n",
       "      <td>17.0</td>\n",
       "      <td>crow</td>\n",
       "    </tr>\n",
       "    <tr>\n",
       "      <th>1</th>\n",
       "      <td>Corvus coronoides</td>\n",
       "      <td>Australian raven</td>\n",
       "      <td>46-53</td>\n",
       "      <td>650</td>\n",
       "      <td>trees</td>\n",
       "      <td>22</td>\n",
       "      <td>Australia</td>\n",
       "      <td>49.5</td>\n",
       "      <td>NaN</td>\n",
       "      <td>NaN</td>\n",
       "      <td>raven</td>\n",
       "    </tr>\n",
       "    <tr>\n",
       "      <th>2</th>\n",
       "      <td>Corvus meeki</td>\n",
       "      <td>bougainville crow</td>\n",
       "      <td>40-41</td>\n",
       "      <td>NaN</td>\n",
       "      <td>trees</td>\n",
       "      <td>6-10</td>\n",
       "      <td>Australia</td>\n",
       "      <td>40.5</td>\n",
       "      <td>NaN</td>\n",
       "      <td>8.0</td>\n",
       "      <td>crow</td>\n",
       "    </tr>\n",
       "    <tr>\n",
       "      <th>3</th>\n",
       "      <td>Corvus mellori</td>\n",
       "      <td>little raven</td>\n",
       "      <td>48-50</td>\n",
       "      <td>365-660</td>\n",
       "      <td>trees</td>\n",
       "      <td>15-20</td>\n",
       "      <td>Australia</td>\n",
       "      <td>49.0</td>\n",
       "      <td>512.5</td>\n",
       "      <td>17.5</td>\n",
       "      <td>raven</td>\n",
       "    </tr>\n",
       "    <tr>\n",
       "      <th>4</th>\n",
       "      <td>Corvus moneduloides</td>\n",
       "      <td>newCaledonian crow</td>\n",
       "      <td>40-43</td>\n",
       "      <td>225-355</td>\n",
       "      <td>trees</td>\n",
       "      <td>NaN</td>\n",
       "      <td>Australia</td>\n",
       "      <td>41.5</td>\n",
       "      <td>290.0</td>\n",
       "      <td>NaN</td>\n",
       "      <td>crow</td>\n",
       "    </tr>\n",
       "  </tbody>\n",
       "</table>\n",
       "</div>"
      ],
      "text/plain": [
       "       Scientific name         common name   size   weight nesting place  \\\n",
       "0      Corvus bennetti         little crow  38-45  290-500         trees   \n",
       "1    Corvus coronoides    Australian raven  46-53      650         trees   \n",
       "2         Corvus meeki   bougainville crow  40-41      NaN         trees   \n",
       "3       Corvus mellori        little raven  48-50  365-660         trees   \n",
       "4  Corvus moneduloides  newCaledonian crow  40-43  225-355         trees   \n",
       "\n",
       "  lifespan    country  average size  average weight  average lifespan  \\\n",
       "0    14-20  Australia          41.5           395.0              17.0   \n",
       "1       22  Australia          49.5             NaN               NaN   \n",
       "2     6-10  Australia          40.5             NaN               8.0   \n",
       "3    15-20  Australia          49.0           512.5              17.5   \n",
       "4      NaN  Australia          41.5           290.0               NaN   \n",
       "\n",
       "  crow or raven  \n",
       "0          crow  \n",
       "1         raven  \n",
       "2          crow  \n",
       "3         raven  \n",
       "4          crow  "
      ]
     },
     "execution_count": 7,
     "metadata": {},
     "output_type": "execute_result"
    }
   ],
   "source": [
    "#find crow or raven\n",
    "split_df_crowraven = df['common name'].str.split(' ', expand=True)\n",
    "df['crow or raven'] = split_df_crowraven[1]\n",
    "df.head()"
   ]
  },
  {
   "cell_type": "code",
   "execution_count": 8,
   "id": "c9164021",
   "metadata": {},
   "outputs": [],
   "source": [
    "#crowvsraven_csv = df.to_csv()"
   ]
  },
  {
   "cell_type": "code",
   "execution_count": 9,
   "id": "3f908231",
   "metadata": {},
   "outputs": [
    {
     "name": "stdout",
     "output_type": "stream",
     "text": [
      "average lifespan  7.5   8.0   12.0  12.5  14.0  16.0  17.0  17.5  37.5\n",
      "crow or raven                                                         \n",
      "crow                 2     2     1     0     1     1     3     0     0\n",
      "raven                0     1     0     1     0     0     0     1     1\n"
     ]
    }
   ],
   "source": [
    "table=pd.crosstab(index=df['crow or raven'], columns=df['average size'])\n",
    "table_weight=pd.crosstab(df['crow or raven'], df['average weight'])\n",
    "table_ls=pd.crosstab(df['crow or raven'], df['average lifespan'])\n",
    "print(table_ls)"
   ]
  },
  {
   "cell_type": "code",
   "execution_count": 10,
   "id": "73d633bc",
   "metadata": {},
   "outputs": [],
   "source": [
    "from scipy.stats import chi2_contingency\n",
    "chi2, pval, dof, expected=chi2_contingency(table)"
   ]
  },
  {
   "cell_type": "code",
   "execution_count": 11,
   "id": "231c005e",
   "metadata": {},
   "outputs": [
    {
     "name": "stdout",
     "output_type": "stream",
     "text": [
      "0.1850397276153391\n"
     ]
    }
   ],
   "source": [
    "print(pval)\n",
    "size_pval = pval"
   ]
  },
  {
   "cell_type": "code",
   "execution_count": 12,
   "id": "c554528f",
   "metadata": {},
   "outputs": [],
   "source": [
    "chi2, pval, dof, expected=chi2_contingency(table_weight)"
   ]
  },
  {
   "cell_type": "code",
   "execution_count": 13,
   "id": "88e851c3",
   "metadata": {},
   "outputs": [
    {
     "name": "stdout",
     "output_type": "stream",
     "text": [
      "0.3368009019275335\n"
     ]
    }
   ],
   "source": [
    "weight_pval = pval\n",
    "print(pval)"
   ]
  },
  {
   "cell_type": "code",
   "execution_count": 14,
   "id": "3afcf3f2",
   "metadata": {},
   "outputs": [
    {
     "name": "stdout",
     "output_type": "stream",
     "text": [
      "0.217271459602131\n"
     ]
    }
   ],
   "source": [
    "chi2, pval, dof, expected=chi2_contingency(table_ls)\n",
    "lifespan_pval = pval\n",
    "print(pval)"
   ]
  },
  {
   "cell_type": "code",
   "execution_count": 16,
   "id": "882bed82",
   "metadata": {},
   "outputs": [
    {
     "name": "stdout",
     "output_type": "stream",
     "text": [
      "0.24637069638166786\n"
     ]
    }
   ],
   "source": [
    "agg_pvals = (size_pval+weight_pval+lifespan_pval)/3\n",
    "print(agg_pvals)"
   ]
  },
  {
   "cell_type": "code",
   "execution_count": null,
   "id": "0a16e5e6",
   "metadata": {},
   "outputs": [],
   "source": [
    "#add more species within standard deviations of the mean weight, length, etc. to simulate whether different species are different "
   ]
  },
  {
   "cell_type": "code",
   "execution_count": null,
   "id": "0fa40146",
   "metadata": {},
   "outputs": [],
   "source": [
    "#use model to see if it can predict crow or raven based on data"
   ]
  },
  {
   "cell_type": "code",
   "execution_count": null,
   "id": "65985fa9",
   "metadata": {},
   "outputs": [],
   "source": []
  },
  {
   "cell_type": "code",
   "execution_count": null,
   "id": "f1a96065",
   "metadata": {},
   "outputs": [],
   "source": []
  }
 ],
 "metadata": {
  "kernelspec": {
   "display_name": "Python 3 (ipykernel)",
   "language": "python",
   "name": "python3"
  },
  "language_info": {
   "codemirror_mode": {
    "name": "ipython",
    "version": 3
   },
   "file_extension": ".py",
   "mimetype": "text/x-python",
   "name": "python",
   "nbconvert_exporter": "python",
   "pygments_lexer": "ipython3",
   "version": "3.9.13"
  }
 },
 "nbformat": 4,
 "nbformat_minor": 5
}
